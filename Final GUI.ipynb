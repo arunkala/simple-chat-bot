{
 "cells": [
  {
   "cell_type": "markdown",
   "metadata": {},
   "source": [
    "Arun Kalaeswaran\n",
    "---\n",
    "Make sure you have the pickle file of the saved model. \n",
    "Then you run the cell below and then you can ask the bot questions related to fantasy football. \n",
    "You can ask what is fantasy football? What are the players? How do you score? Drafting? Etc.\n",
    "The bot will prompt you if you want to continue or stop."
   ]
  },
  {
   "cell_type": "code",
   "execution_count": 3,
   "metadata": {},
   "outputs": [
    {
     "name": "stdout",
     "output_type": "stream",
     "text": [
      "Hi this is Fantasy Football Chatter! How can we help you today?What are the positions?\n",
      "There are 7 positions that are to be considered. Quarterback, Wide Receiver, Running Back, Tight End, Kicker, Defense and FLEX which means either WR/RB/TE.\n",
      "Did you have any more questions? Y/N  y\n",
      "Hi this is Fantasy Football Chatter! How can we help you today?What is fantasy football?\n",
      "Fantasy football is a game in which the participants serve as general managers of virtual professional gridiron football teams. The competitors choose team rosters by participating in a draft in which all players of a real football league are available. Points are based on the actual performances of the players in the real-world competition. The game typically involves the NFL\n",
      "Did you have any more questions? Y/N  y\n",
      "Hi this is Fantasy Football Chatter! How can we help you today?drafting?\n",
      "In Fantasy Football the tiebreaker is awarded to the team with the best overall matchup winning percentage against opponent during the regular season. Head-to-Head One win and points - Tiebreaker is awarded to the team with the best overall matchup winning percentage against opponent during the regular season.\n",
      "Did you have any more questions? Y/N  y\n",
      "Hi this is Fantasy Football Chatter! How can we help you today?playoffs?\n",
      "In a standard league, the top four teams will make the playoffs. In this case, the 1st seed will play the 4th seed, and the 2nd seed will play the 3rd seed. The winners of these two matchups will go on to the next week to play for the league championship; the losers will play for 3rd place.\n",
      "Did you have any more questions? Y/N  y\n",
      "Hi this is Fantasy Football Chatter! How can we help you today?what is ppr?\n",
      "PPR is Points per reception. Meaning in addition to the standard points system, players also receive points for making a catch which is usually 0.5 points. An player making 3 catches would get an additional 1.5 points using this scale.\n",
      "Did you have any more questions? Y/N  n\n",
      "OK Goodbye...\n"
     ]
    }
   ],
   "source": [
    "import sys\n",
    "import pickle\n",
    "from sklearn.base import TransformerMixin\n",
    "from sklearn.feature_extraction.stop_words import ENGLISH_STOP_WORDS as stopwords\n",
    "import spacy\n",
    "from spacy.lang.en import English\n",
    "import en_core_web_sm\n",
    "import string\n",
    "\n",
    "punctuations = string.punctuation\n",
    "\n",
    "parser = English()\n",
    "\n",
    "#Custom transformer using spaCy \n",
    "class predictors(TransformerMixin):\n",
    "    def transform(self, X, **transform_params):\n",
    "        return [clean_text(text) for text in X]\n",
    "    def fit(self, X, y=None, **fit_params):\n",
    "        return self\n",
    "    def get_params(self, deep=True):\n",
    "        return {}\n",
    "\n",
    "# Basic utility function to clean the text \n",
    "def clean_text(text):     \n",
    "    return text.strip().lower()\n",
    "\n",
    "#Create spacy tokenizer that parses a sentence and generates tokens\n",
    "#these can also be replaced by word vectors \n",
    "def spacy_tokenizer(sentence):\n",
    "    tokens = parser(sentence)\n",
    "    tokens = [tok.lemma_.lower().strip() if tok.lemma_ != \"-PRON-\" else tok.lower_ for tok in tokens]\n",
    "    tokens = [tok for tok in tokens if (tok not in stopwords and tok not in punctuations)]\n",
    "    return tokens\n",
    "\n",
    "#loading saved pickle model\n",
    "with open('classifier_pipe.dump', 'rb') as f:\n",
    "    pipe = pickle.load(f)\n",
    "\n",
    "#print(pipe.classes_)\n",
    "\n",
    "#creating loop in order to have the chatbot asking questions\n",
    "def play_game():\n",
    "    X = input(\"Hi this is Fantasy Football Chatter! How can we help you today?\")\n",
    "    pred_data = pipe.predict(spacy_tokenizer(X)) \n",
    "    #print(pred_data)\n",
    "    if pred_data[0] == 2:  #action to be written if it shows class 2\n",
    "        print(\"Fantasy football is a game in which the participants serve as general managers of virtual professional gridiron football teams. The competitors choose team rosters by participating in a draft in which all players of a real football league are available. Points are based on the actual performances of the players in the real-world competition. The game typically involves the NFL\")\n",
    "    elif pred_data[0] == 3: #action to be written if it shows class 3\n",
    "        print(\"Scoring is performance based. Each player on your team that starts accumulate points. The starting players total points are tallied and if they are greater than your opponent's total team points, you are declared the victor of that weeks matchup. Points are can be tallied two ways; standard or PPR. In standard scoring leagues, usually a touchdown is 6 points for the player throwing and/or receiving or running it in. Every 10 yards is 1 point. Kickers and Defense have special point rules.\")\n",
    "    elif pred_data[0] == 4: #action to be written if it shows class 4\n",
    "        print(\"PPR is Points per reception. Meaning in addition to the standard points system, players also receive points for making a catch which is usually 0.5 points. An player making 3 catches would get an additional 1.5 points using this scale.\")\n",
    "    elif pred_data[0] == 5:\n",
    "        print(\"There are 7 positions that are to be considered. Quarterback, Wide Receiver, Running Back, Tight End, Kicker, Defense and FLEX which means either WR/RB/TE.\")\n",
    "    elif pred_data[0] == 6:\n",
    "        print(\"Drafting a team means selecting players that will make up your team. It can differ but you must draft at 1 player per position and your bench must consist of a player of each position. Since football has many injuries and also bi weeks, you will have to substitute in other players when some do not play.\")\n",
    "    elif pred_data[0] == 7:\n",
    "        print(\"In a standard league, the top four teams will make the playoffs. In this case, the 1st seed will play the 4th seed, and the 2nd seed will play the 3rd seed. The winners of these two matchups will go on to the next week to play for the league championship; the losers will play for 3rd place.\")\n",
    "    elif pred_data[0] == 8:\n",
    "        print(\"In Fantasy Football the tiebreaker is awarded to the team with the best overall matchup winning percentage against opponent during the regular season. Head-to-Head One win and points - Tiebreaker is awarded to the team with the best overall matchup winning percentage against opponent during the regular season.\")\n",
    "    else:\n",
    "        print(\"bye\")\n",
    "        \n",
    "def play_again():\n",
    "    return input(\"Did you have any more questions? Y/N  \").lower() == \"y\"\n",
    "\n",
    "while True:\n",
    "    play_game()\n",
    "    if not play_again(): break\n",
    "\n",
    "print (\"OK Goodbye...\")"
   ]
  },
  {
   "cell_type": "code",
   "execution_count": null,
   "metadata": {},
   "outputs": [],
   "source": []
  }
 ],
 "metadata": {
  "kernelspec": {
   "display_name": "Python 3",
   "language": "python",
   "name": "python3"
  },
  "language_info": {
   "codemirror_mode": {
    "name": "ipython",
    "version": 3
   },
   "file_extension": ".py",
   "mimetype": "text/x-python",
   "name": "python",
   "nbconvert_exporter": "python",
   "pygments_lexer": "ipython3",
   "version": "3.7.3"
  }
 },
 "nbformat": 4,
 "nbformat_minor": 2
}
